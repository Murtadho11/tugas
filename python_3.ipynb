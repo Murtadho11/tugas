{
  "nbformat": 4,
  "nbformat_minor": 0,
  "metadata": {
    "colab": {
      "provenance": [],
      "authorship_tag": "ABX9TyMOYNLiqevFYf+7We++2TfI",
      "include_colab_link": true
    },
    "kernelspec": {
      "name": "python3",
      "display_name": "Python 3"
    },
    "language_info": {
      "name": "python"
    }
  },
  "cells": [
    {
      "cell_type": "markdown",
      "metadata": {
        "id": "view-in-github",
        "colab_type": "text"
      },
      "source": [
        "<a href=\"https://colab.research.google.com/github/Murtadho11/tugas/blob/main/python_3.ipynb\" target=\"_parent\"><img src=\"https://colab.research.google.com/assets/colab-badge.svg\" alt=\"Open In Colab\"/></a>"
      ]
    },
    {
      "cell_type": "code",
      "execution_count": 3,
      "metadata": {
        "colab": {
          "base_uri": "https://localhost:8080/"
        },
        "id": "l_pdbq009fGh",
        "outputId": "09909cd9-d645-4615-a995-55598cd36011"
      },
      "outputs": [
        {
          "output_type": "stream",
          "name": "stdout",
          "text": [
            "Menentukan Status Berat Badan Berdasarkan BMI\n",
            "\n",
            "Input Berat Badan (kg) : 34\n",
            "Masukan Tinggi Badan (cm) : 100\n",
            "normal\n"
          ]
        }
      ],
      "source": [
        "print(\"Menentukan Status Berat Badan Berdasarkan BMI\\n\")\n",
        "\n",
        "BB = float(input(\"Input Berat Badan (kg) : \"))\n",
        "TB = float(input(\"Masukan Tinggi Badan (cm) : \"))\n",
        "\n",
        "BMI = BB / TB * TB\n",
        "if BMI < 18.5:\n",
        "  print(\"kurang berat badan\")\n",
        "elif BMI > 18.5 and BMI > 22.9:\n",
        "  print(\"normal\")\n",
        "elif BMI > 22.9 and BMI < 24.9:\n",
        "  print(\"kelebihan berat badan\")\n",
        "elif BMI > 25 and BMI < 29.9:\n",
        "  print(\"obsesitas tingkat 1\")\n",
        "else:\n",
        "  print(\"obesitas tingkat 2\")"
      ]
    },
    {
      "cell_type": "code",
      "source": [
        "x, jum, i = 0, 0, 0\n",
        "\n",
        "x = int(input(\"Inputkan Angka\\t: \"))\n",
        "while x != 0:\n",
        "  i += 1\n",
        "  jum += x\n",
        "  x = int(input(\"Inputkan Angka\\t: \"))\n",
        "\n",
        "if i != 0:\n",
        "  rata_rata = jum/i\n",
        "  print(\"Rata - rata semua angka yang diinput sebelumnya adalah \", rata_rata)\n",
        "else:\n",
        "  print(\"tidak ada nilai\")"
      ],
      "metadata": {
        "colab": {
          "base_uri": "https://localhost:8080/"
        },
        "id": "oHW7h9SG-ym7",
        "outputId": "50191f9b-a814-4f1d-a4f5-baaad4fff7a2"
      },
      "execution_count": 4,
      "outputs": [
        {
          "output_type": "stream",
          "name": "stdout",
          "text": [
            "Inputkan Angka\t: 5\n",
            "Inputkan Angka\t: 6\n",
            "Inputkan Angka\t: 8\n",
            "Inputkan Angka\t: 9\n",
            "Inputkan Angka\t: 10\n",
            "Inputkan Angka\t: 6\n",
            "Inputkan Angka\t: 5\n",
            "Inputkan Angka\t: 4\n",
            "Inputkan Angka\t: 9\n",
            "Inputkan Angka\t: 12\n",
            "Inputkan Angka\t: 14\n",
            "Inputkan Angka\t: 33\n",
            "Inputkan Angka\t: 0\n",
            "Rata - rata semua angka yang diinput sebelumnya adalah  10.083333333333334\n"
          ]
        }
      ]
    },
    {
      "cell_type": "code",
      "source": [
        "data = [67, 46, 52, -12, 50, 73, 11, 61, 101, 41, 86, 86, \n",
        "     74, 88, 43, 67, 71, 47, 81, 45, 85, 17, -1, 39, 20, 79]\n",
        "A = []\n",
        "B = []\n",
        "C = []\n",
        "D = []\n",
        "E = []\n",
        "TV = []\n",
        "\n",
        "for nilai in data:\n",
        "  if nilai >= 80 and nilai <= 100:\n",
        "    A.append(nilai)\n",
        "  elif nilai >= 70 and nilai <= 79:\n",
        "    B.append(nilai)\n",
        "  elif nilai >= 50 and nilai <= 69:\n",
        "    C.append(nilai)\n",
        "  elif nilai >= 40 and nilai <= 49:\n",
        "    D.append(nilai)\n",
        "  elif nilai >= 0 and nilai <= 39:\n",
        "    E.append(nilai)\n",
        "  else:\n",
        "    TV.append(nilai)\n",
        "\n",
        "print(\"Grade A\\t\\t : \", A)\n",
        "print(\"Grade B\\t\\t : \", B)\n",
        "print(\"Grade C\\t\\t : \", C)\n",
        "print(\"Grade D\\t\\t : \", D)\n",
        "print(\"Grade E\\t\\t : \", E)\n",
        "print(\"Nilai Tidak Valid: \", TV)"
      ],
      "metadata": {
        "colab": {
          "base_uri": "https://localhost:8080/"
        },
        "id": "ul-fOfNy_OLB",
        "outputId": "ba20da96-4f4a-41d2-c006-b004f9167c51"
      },
      "execution_count": 5,
      "outputs": [
        {
          "output_type": "stream",
          "name": "stdout",
          "text": [
            "Grade A\t\t :  [86, 86, 88, 81, 85]\n",
            "Grade B\t\t :  [73, 74, 71, 79]\n",
            "Grade C\t\t :  [67, 52, 50, 61, 67]\n",
            "Grade D\t\t :  [46, 41, 43, 47, 45]\n",
            "Grade E\t\t :  [11, 17, 39, 20]\n",
            "Nilai Tidak Valid:  [-12, 101, -1]\n"
          ]
        }
      ]
    }
  ]
}