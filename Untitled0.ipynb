{
  "nbformat": 4,
  "nbformat_minor": 0,
  "metadata": {
    "colab": {
      "name": "Untitled0.ipynb",
      "provenance": [],
      "collapsed_sections": [],
      "authorship_tag": "ABX9TyMHF6zsefjem0Ir7UhuvCFb",
      "include_colab_link": true
    },
    "kernelspec": {
      "name": "python3",
      "display_name": "Python 3"
    },
    "language_info": {
      "name": "python"
    }
  },
  "cells": [
    {
      "cell_type": "markdown",
      "metadata": {
        "id": "view-in-github",
        "colab_type": "text"
      },
      "source": [
        "<a href=\"https://colab.research.google.com/github/Murtadho11/tugas/blob/main/Untitled0.ipynb\" target=\"_parent\"><img src=\"https://colab.research.google.com/assets/colab-badge.svg\" alt=\"Open In Colab\"/></a>"
      ]
    },
    {
      "cell_type": "code",
      "execution_count": null,
      "metadata": {
        "colab": {
          "base_uri": "https://localhost:8080/"
        },
        "id": "Lry6G-IjKf9O",
        "outputId": "2f52c8b3-9c7a-401a-c140-84a6560217a7"
      },
      "outputs": [
        {
          "output_type": "stream",
          "name": "stdout",
          "text": [
            "mencari luas persegi\n",
            "\n",
            "masukan sisi : 6\n",
            "hasil :  36\n"
          ]
        }
      ],
      "source": [
        "#mencari luas persegi\n",
        "#rumus s x s\n",
        "print(\"mencari luas persegi\\n\")\n",
        "\n",
        "s = int(input(\"masukan sisi : \"))\n",
        "\n",
        "\n",
        "persegi = s * s\n",
        "print(\"hasil : \",persegi)"
      ]
    },
    {
      "cell_type": "code",
      "source": [
        "#mencari keliling persegi\n",
        "#rumus s x 4\n",
        "print(\"mencari keliling persegi\")\n",
        "\n",
        "s = int(input(\"masukan sisi : \"))\n",
        "\n",
        "keliling = s * 4\n",
        "print(\"hasil : \",keliling)"
      ],
      "metadata": {
        "colab": {
          "base_uri": "https://localhost:8080/"
        },
        "id": "HBEja5jvKyCh",
        "outputId": "9b039fdf-2a5d-43f2-868a-cd956c09443c"
      },
      "execution_count": null,
      "outputs": [
        {
          "output_type": "stream",
          "name": "stdout",
          "text": [
            "mencari keliling persegi\n",
            "masukan sisi : 7\n",
            "hasil :  28\n"
          ]
        }
      ]
    },
    {
      "cell_type": "code",
      "source": [
        "print(\"mencari luas persegi panjang\\n\")\n",
        "\n",
        "p = int(input(\"masukkan panjang : \"))\n",
        "l = int(input(\"masukkan lebar \\t : \"))\n",
        "\n",
        "luas = p * l\n",
        "\n",
        "print(\"hasil : \",luas)"
      ],
      "metadata": {
        "colab": {
          "base_uri": "https://localhost:8080/"
        },
        "id": "Gjiopn6xMIOs",
        "outputId": "9b576283-2076-4bde-a04d-8e2016f5240e"
      },
      "execution_count": null,
      "outputs": [
        {
          "output_type": "stream",
          "name": "stdout",
          "text": [
            "mencari luas persegi panjang\n",
            "\n",
            "masukkan panjang : 4\n",
            "masukkan lebar \t : 5\n",
            "hasil :  20\n"
          ]
        }
      ]
    },
    {
      "cell_type": "code",
      "source": [
        "#mencari keliling persegi panjang\n",
        "#rumus 2 x (p + l)\n",
        "\n",
        "print(\"mencari keliling persegi panjang\\n\")\n",
        "\n",
        "p = int(input(\"masukkan panjang : \"))\n",
        "l = int(input(\"masukkan lebar : \"))\n",
        "\n",
        "keliling = 2 * (p + l)\n",
        "\n",
        "print(\"hasil : \",keliling)"
      ],
      "metadata": {
        "colab": {
          "base_uri": "https://localhost:8080/"
        },
        "id": "xumEf9YMMejd",
        "outputId": "ceacc96b-618c-43fb-bcfa-1fadd213b5b3"
      },
      "execution_count": null,
      "outputs": [
        {
          "output_type": "stream",
          "name": "stdout",
          "text": [
            "mencari keliling persegi panjang\n",
            "\n",
            "masukkan panjang : 8\n",
            "masukkan lebar : 3\n",
            "hasil :  22\n"
          ]
        }
      ]
    },
    {
      "cell_type": "code",
      "source": [
        "#mencari luas jajar genjang\n",
        "#rumus a x t\n",
        "\n",
        "print(\"mencari luas jajar genjang\\n\")\n",
        "\n",
        "a = int(input(\"masukkan nilai alas : \"))\n",
        "t = int(input(\"masukkan nilai tinggi : \"))\n",
        "\n",
        "luas = a * t\n",
        "\n",
        "print(\"hasil : \",luas)"
      ],
      "metadata": {
        "colab": {
          "base_uri": "https://localhost:8080/"
        },
        "id": "uy9KcIn6Mqtu",
        "outputId": "ceb57b6f-3b13-4350-a61b-f82686035350"
      },
      "execution_count": null,
      "outputs": [
        {
          "output_type": "stream",
          "name": "stdout",
          "text": [
            "mencari luas jajar genjang\n",
            "\n",
            "masukkan nilai alas : 9\n",
            "masukkan nilai tinggi : 7\n",
            "hasil :  63\n"
          ]
        }
      ]
    },
    {
      "cell_type": "code",
      "source": [
        "#mencari keliling jajar genjang\n",
        "#rumus 2 x (a + b)\n",
        "\n",
        "print(\"mencari keliling jajar genjang\\n\")\n",
        "\n",
        "a = int(input(\"masukkan nilai alas : \"))\n",
        "b = int(input(\"masukkan nilai sisi miring : \"))\n",
        "\n",
        "keliling = 2 * (a + b)\n",
        "\n",
        "print(\"hasil : \",keliling)"
      ],
      "metadata": {
        "colab": {
          "base_uri": "https://localhost:8080/"
        },
        "id": "6N8RnH3RNiN_",
        "outputId": "1cce204d-3bb0-449b-9188-60c97c55d14f"
      },
      "execution_count": null,
      "outputs": [
        {
          "output_type": "stream",
          "name": "stdout",
          "text": [
            "mencari keliling jajar genjang\n",
            "\n",
            "masukkan nilai alas : 8\n",
            "masukkan nilai sisi miring : 5\n",
            "hasil :  26\n"
          ]
        }
      ]
    },
    {
      "cell_type": "code",
      "source": [
        "#mencari luas segitiga\n",
        "#rumus 1/2 x a x t\n",
        "\n",
        "print(\"mencari luas segitiga\\n\")\n",
        "\n",
        "a = int(input(\"masukan nilai sisi : \"))\n",
        "t = int(input(\"masukkan nilai tinggi : \"))\n",
        "\n",
        "luas = 1/2 * a * t\n",
        "\n",
        "print(\"hasil : \",luas)"
      ],
      "metadata": {
        "colab": {
          "base_uri": "https://localhost:8080/"
        },
        "id": "pzj0gP8jOPjm",
        "outputId": "03a9ba59-830b-4c55-f627-d8f0a43ccb82"
      },
      "execution_count": null,
      "outputs": [
        {
          "output_type": "stream",
          "name": "stdout",
          "text": [
            "mencari luas segitiga\n",
            "\n",
            "masukan nilai sisi : 6\n",
            "masukkan nilai tinggi : 4\n",
            "hasil :  12.0\n"
          ]
        }
      ]
    },
    {
      "cell_type": "code",
      "source": [
        "#mencari keliling segitiga\n",
        "#rumus a + b + c\n",
        "\n",
        "print(\"menghitung keliling segitiga\\n\")\n",
        "\n",
        "a = int(input(\"masukan nilai sisi 1 : \"))\n",
        "b = int(input(\"masukkan nilai sisi 2 : \"))\n",
        "c = int(input(\"masukkan nilai sisi 3 : \"))\n",
        "\n",
        "keliling = a + b + c\n",
        "\n",
        "print(\"hasil : \",keliling)"
      ],
      "metadata": {
        "colab": {
          "base_uri": "https://localhost:8080/"
        },
        "id": "iIDCyTC1OxDX",
        "outputId": "a11fa673-a2cf-42f7-de48-e1017e015568"
      },
      "execution_count": null,
      "outputs": [
        {
          "output_type": "stream",
          "name": "stdout",
          "text": [
            "menghitung keliling segitiga\n",
            "\n",
            "masukan nilai sisi 1 : 9\n",
            "masukkan nilai sisi 2 : 8\n",
            "masukkan nilai sisi 3 : 8\n",
            "hasil :  25\n"
          ]
        }
      ]
    }
  ]
}