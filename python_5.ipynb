{
  "nbformat": 4,
  "nbformat_minor": 0,
  "metadata": {
    "colab": {
      "provenance": [],
      "authorship_tag": "ABX9TyN8t58crNiUTGG7t1TQY2kr",
      "include_colab_link": true
    },
    "kernelspec": {
      "name": "python3",
      "display_name": "Python 3"
    },
    "language_info": {
      "name": "python"
    }
  },
  "cells": [
    {
      "cell_type": "markdown",
      "metadata": {
        "id": "view-in-github",
        "colab_type": "text"
      },
      "source": [
        "<a href=\"https://colab.research.google.com/github/Murtadho11/tugas/blob/main/python_5.ipynb\" target=\"_parent\"><img src=\"https://colab.research.google.com/assets/colab-badge.svg\" alt=\"Open In Colab\"/></a>"
      ]
    },
    {
      "cell_type": "code",
      "execution_count": 1,
      "metadata": {
        "id": "AIbdoy4YAsDB"
      },
      "outputs": [],
      "source": [
        "# parrent class\n",
        "class rumus:\n",
        "  \"\"\"Bantuan Rumus Bangun Ruang:\n",
        "\n",
        "  NAME\n",
        "    Rumus Bangun Ruang\n",
        "\n",
        "  DESCRIPTION\n",
        "    Rumus Bangun Ruang\n",
        "    ==================\n",
        "    kubus dan balok\n",
        "  \n",
        "  CLASES\n",
        "    kubus\n",
        "    balok\n",
        "\n",
        "  FUNCTION\n",
        "    hitung_volume()->int\n",
        "    volume()->int\n",
        "    hitung_luas()->int\n",
        "    luas()->int\n",
        "  \"\"\"\n",
        "\n",
        "  luas = 0\n",
        "  volume = 0\n",
        "\n",
        "  def hitung_volume():\n",
        "    print(\"menghitung volume bangun datar\")\n",
        "\n",
        "  def volume(self):\n",
        "    return self.volume\n",
        "\n",
        "  def hitung_luas():\n",
        "    print(\"menghitung luas bangun datar\")\n",
        "\n",
        "  def luas(self):\n",
        "    return self.luas\n",
        "\n",
        "class kubus(rumus):\n",
        "  def __init__(self, sisi):\n",
        "    self.sisi = sisi\n",
        "  \n",
        "  def hitung_volume(self):\n",
        "    self.volume = self.sisi * self.sisi * self.sisi\n",
        "\n",
        "  def hitung_luas(self):\n",
        "    self.luas = 6 * self.sisi * self.sisi\n",
        "\n",
        "class balok(rumus):\n",
        "  def __init__(self, panjang, lebar, tinggi):\n",
        "    self.panjang = panjang\n",
        "    self.tinggi = tinggi\n",
        "    self.lebar = lebar\n",
        "  \n",
        "  def hitung_volume(self):\n",
        "    self.volume = self.panjang * self.tinggi * self.lebar\n",
        "\n",
        "  def hitung_luas(self):\n",
        "    self.luas = 2 * (self.panjang * self.lebar + self.lebar * self.tinggi + self.lebar * self.tinggi)"
      ]
    }
  ]
}