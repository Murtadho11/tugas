{
  "nbformat": 4,
  "nbformat_minor": 0,
  "metadata": {
    "colab": {
      "provenance": [],
      "authorship_tag": "ABX9TyNUdPY4gbnjelyOo/uMh++W",
      "include_colab_link": true
    },
    "kernelspec": {
      "name": "python3",
      "display_name": "Python 3"
    },
    "language_info": {
      "name": "python"
    }
  },
  "cells": [
    {
      "cell_type": "markdown",
      "metadata": {
        "id": "view-in-github",
        "colab_type": "text"
      },
      "source": [
        "<a href=\"https://colab.research.google.com/github/Murtadho11/tugas/blob/main/Untitled2.ipynb\" target=\"_parent\"><img src=\"https://colab.research.google.com/assets/colab-badge.svg\" alt=\"Open In Colab\"/></a>"
      ]
    },
    {
      "cell_type": "markdown",
      "source": [
        "1. Simpan sebuah dictionary yang kamu buat ! Lalu cetak dictionary "
      ],
      "metadata": {
        "id": "MIs-qDs1ydDs"
      }
    },
    {
      "cell_type": "code",
      "execution_count": 7,
      "metadata": {
        "colab": {
          "base_uri": "https://localhost:8080/"
        },
        "id": "i_Z5LnHMvmBV",
        "outputId": "d7eb59b2-02dc-40a9-df7a-3ec95441ea77"
      },
      "outputs": [
        {
          "output_type": "stream",
          "name": "stdout",
          "text": [
            "\n",
            " {'NIK': '1990012', 'Nama': 'Anisa', 'Jenis Kelamin': 'p', 'Alamat': 'Surabaya', 'Divisi': 'Machinery', 'Jabatan': 'Manager', 'Gaji': '11.000.000'} \n",
            " {'NIK': '2001207', 'Nama': 'Budi', 'Jenis Kelamin': 'L', 'Alamat': 'cibubur', 'Divisi': 'Machinery', 'Jabatan': 'Staff', 'Gaji': '8.500.000'} \n",
            " {'NIK': '2002019', 'Nama': 'Clara', 'Jenis Kelamin': 'P', 'Alamat': 'Depok', 'Divisi': 'Compressor', 'Jabatan': 'Staff', 'Gaji': '7.000.000'} \n",
            " {'NIK': '2002081', 'Nama': 'Rista', 'Jenis Kelamin': 'P', 'Alamat': 'Bogor', 'Divisi': 'QC', 'Jabatan': 'Staff', 'Gaji': '6.500.000'} \n",
            " {'NIK': '2005099', 'Nama': 'Riani', 'Jenis Kelamin': 'P', 'Alamat': 'Bekasi', 'Divisi': 'QC', 'Jabatan': 'Operator', 'Gaji': '6.000.000'} \n",
            " {'NIK': '2006003', 'Nama': 'Andi', 'Jenis Kelamin': 'L', 'Alamat': 'Karawang', 'Divisi': 'Compressor', 'Jabatan': 'Operator', 'Gaji': '6.500.000'} \n",
            " {'NIK': '2006104', 'Nama': 'dika', 'Jenis Kelamin': 'L', 'Alamat': 'Tanggerang', 'Divisi': 'Compressor', 'Jabatan': 'staf', 'Gaji': '4.500.000'} \n",
            " {'NIK': '2008160', 'Nama': 'Endah', 'Jenis Kelamin': 'P', 'Alamat': 'jakarta', 'Divisi': 'Machinery', 'Jabatan': 'Operator', 'Gaji': '5.000.000'}\n"
          ]
        }
      ],
      "source": [
        "data1 = {'NIK' : '1990012',\n",
        "        'Nama': 'Anisa',\n",
        "        'Jenis Kelamin' : 'p',\n",
        "        'Alamat' : 'Surabaya',\n",
        "        'Divisi' : 'Machinery',\n",
        "        'Jabatan' : 'Manager',\n",
        "        'Gaji' : '11.000.000'}\n",
        "        \n",
        "data2 = {'NIK' : '2001207',\n",
        "        'Nama': 'Budi',\n",
        "        'Jenis Kelamin' : 'L',\n",
        "        'Alamat' : 'cibubur',\n",
        "        'Divisi' : 'Machinery',\n",
        "        'Jabatan' : 'Staff',\n",
        "        'Gaji' : '8.500.000'}\n",
        "\n",
        "data3 = {'NIK' : '2002019',\n",
        "        'Nama': 'Clara',\n",
        "        'Jenis Kelamin' : 'P',\n",
        "        'Alamat' : 'Depok',\n",
        "        'Divisi' : 'Compressor',\n",
        "        'Jabatan' : 'Staff',\n",
        "        'Gaji' : '7.000.000'}\n",
        "\n",
        "data4 = {'NIK' : '2002081',\n",
        "        'Nama': 'Rista',\n",
        "        'Jenis Kelamin' : 'P',\n",
        "        'Alamat' : 'Bogor',\n",
        "        'Divisi' : 'QC',\n",
        "        'Jabatan' : 'Staff',\n",
        "        'Gaji' : '6.500.000'}\n",
        "\n",
        "data5 = {'NIK' : '2005099',\n",
        "        'Nama': 'Riani',\n",
        "        'Jenis Kelamin' : 'P',\n",
        "        'Alamat' : 'Bekasi',\n",
        "        'Divisi' : 'QC',\n",
        "        'Jabatan' : 'Operator',\n",
        "        'Gaji' : '6.000.000'}\n",
        "\n",
        "data6 = {'NIK' : '2006003',\n",
        "        'Nama': 'Andi',\n",
        "        'Jenis Kelamin' : 'L',\n",
        "        'Alamat' : 'Karawang',\n",
        "        'Divisi' : 'Compressor',\n",
        "        'Jabatan' : 'Operator',\n",
        "        'Gaji' : '6.500.000'}\n",
        "\n",
        "data7 = {'NIK' : '2006104',\n",
        "        'Nama': 'dika',\n",
        "        'Jenis Kelamin' : 'L',\n",
        "        'Alamat' : 'Tanggerang',\n",
        "        'Divisi' : 'Compressor',\n",
        "        'Jabatan' : 'staf',\n",
        "        'Gaji' : '4.500.000'}\n",
        "\n",
        "data8 = {'NIK' : '2008160',\n",
        "        'Nama': 'Endah',\n",
        "        'Jenis Kelamin' : 'P',\n",
        "        'Alamat' : 'jakarta',\n",
        "        'Divisi' : 'Machinery',\n",
        "        'Jabatan' : 'Operator',\n",
        "        'Gaji' : '5.000.000'}\n",
        "\n",
        "print('\\n', data1, '\\n',\n",
        "      data2, '\\n',\n",
        "      data3, '\\n',\n",
        "      data4, '\\n',\n",
        "      data5, '\\n',\n",
        "      data6, '\\n',\n",
        "      data7, '\\n',\n",
        "      data8)"
      ]
    },
    {
      "cell_type": "markdown",
      "source": [],
      "metadata": {
        "id": "DdZV0uZU0tZI"
      }
    },
    {
      "cell_type": "markdown",
      "source": [],
      "metadata": {
        "id": "Xi9WmKVmybVi"
      }
    },
    {
      "cell_type": "code",
      "source": [
        "import numpy as np\n",
        "A = np.array([[1,2],\n",
        "              [4,5],\n",
        "              [7,8]])\n",
        "print(A, '\\n')\n",
        "\n",
        "print(A[2:3, 0:1], A[2:3, 1:2])"
      ],
      "metadata": {
        "colab": {
          "base_uri": "https://localhost:8080/"
        },
        "id": "B-kmzQtWwnbn",
        "outputId": "db269f98-8daf-46de-c230-f798b422733e"
      },
      "execution_count": 2,
      "outputs": [
        {
          "output_type": "stream",
          "name": "stdout",
          "text": [
            "[[1 2]\n",
            " [4 5]\n",
            " [7 8]] \n",
            "\n",
            "[[7]] [[8]]\n"
          ]
        }
      ]
    },
    {
      "cell_type": "markdown",
      "source": [],
      "metadata": {
        "id": "NLQY6zlSwlW0"
      }
    },
    {
      "cell_type": "code",
      "source": [
        "import numpy as np\n",
        "A = np.array([[1,6,9],\n",
        "              [2,5,8]])\n",
        "print(A, '\\n')\n",
        "\n",
        "print(A[0:1, 1:2])\n",
        "print(A[1:2, 1:2])"
      ],
      "metadata": {
        "colab": {
          "base_uri": "https://localhost:8080/"
        },
        "id": "J_KkbHClw9sr",
        "outputId": "5adad20e-e3ba-4652-caaa-107b44b17d6e"
      },
      "execution_count": 3,
      "outputs": [
        {
          "output_type": "stream",
          "name": "stdout",
          "text": [
            "[[1 6 9]\n",
            " [2 5 8]] \n",
            "\n",
            "[[6]]\n",
            "[[5]]\n"
          ]
        }
      ]
    },
    {
      "cell_type": "code",
      "source": [
        "import numpy as np\n",
        "A = np.array([[4,3,8],\n",
        "              [7,2,5],\n",
        "              [6,1,9]])\n",
        "print(A, '\\n')\n",
        "\n",
        "print(\"a\")\n",
        "\n",
        "print(A[1:2, 1:2])\n",
        "print(A[2:3, 1:2], '\\n')\n",
        "\n",
        "print(\"b\")\n",
        "\n",
        "print(A[0:1, 1:2], A[0:1, 2:3])"
      ],
      "metadata": {
        "colab": {
          "base_uri": "https://localhost:8080/"
        },
        "id": "0eYmx9I4xloe",
        "outputId": "ad8e4ef2-c8b9-43a7-c220-8309930bbdc6"
      },
      "execution_count": 4,
      "outputs": [
        {
          "output_type": "stream",
          "name": "stdout",
          "text": [
            "[[4 3 8]\n",
            " [7 2 5]\n",
            " [6 1 9]] \n",
            "\n",
            "a\n",
            "[[2]]\n",
            "[[1]] \n",
            "\n",
            "b\n",
            "[[3]] [[8]]\n"
          ]
        }
      ]
    },
    {
      "cell_type": "code",
      "source": [
        "import numpy as np\n",
        "A = np.array([[23,35,93,87],\n",
        "              [92,44,11,83],\n",
        "              [40,12,46,28],\n",
        "              [73,67,65,32]])\n",
        "print(A, '\\n')\n",
        "\n",
        "print(\"a\")\n",
        "\n",
        "print(A[1:2, 1:2], A[1:2, 2:3], A[1:2, 3:4], '\\n')\n",
        "\n",
        "print(\"b\")\n",
        "\n",
        "print(A[2:3, 1:2], A[2:3, 2:3])\n",
        "print(A[3:4, 1:2], A[3:4, 2:3], '\\n')\n",
        "\n",
        "print(\"c\")\n",
        "\n",
        "print(A[1:2, 1:2], A[1:2, 2:3], A[1:2, 3:4])\n",
        "print(A[2:3, 1:2], A[2:3, 2:3], A[2:3, 3:4])\n",
        "print(A[3:4, 1:2], A[3:4, 2:3], A[3:4, 3:4], '\\n')\n",
        "\n",
        "print(\"d\")\n",
        "\n",
        "print(A[1:2, 0:1], A[1:2, 1:2])\n",
        "print(A[2:3, 0:1], A[2:3, 1:2], '\\n')\n",
        "\n",
        "print(\"e\")\n",
        "\n",
        "print(A[0:1, 0:1], A[0:1, 1:2], A[0:1, 2:3])\n",
        "print(A[1:2, 0:1], A[1:2, 1:2], A[1:2, 2:3])\n",
        "print(A[2:3, 0:1], A[2:3, 1:2], A[2:3, 2:3], '\\n')\n",
        "\n",
        "print(\"f\")\n",
        "\n",
        "print(A[1:2, 1:2])\n",
        "print(A[2:3, 1:2])\n",
        "print(A[3:4, 1:2])"
      ],
      "metadata": {
        "colab": {
          "base_uri": "https://localhost:8080/"
        },
        "id": "Vw54wTF7yBlf",
        "outputId": "0c2d0187-b73c-4fdc-c371-d50c36aa31fb"
      },
      "execution_count": 5,
      "outputs": [
        {
          "output_type": "stream",
          "name": "stdout",
          "text": [
            "[[23 35 93 87]\n",
            " [92 44 11 83]\n",
            " [40 12 46 28]\n",
            " [73 67 65 32]] \n",
            "\n",
            "a\n",
            "[[44]] [[11]] [[83]] \n",
            "\n",
            "b\n",
            "[[12]] [[46]]\n",
            "[[67]] [[65]] \n",
            "\n",
            "c\n",
            "[[44]] [[11]] [[83]]\n",
            "[[12]] [[46]] [[28]]\n",
            "[[67]] [[65]] [[32]] \n",
            "\n",
            "d\n",
            "[[92]] [[44]]\n",
            "[[40]] [[12]] \n",
            "\n",
            "e\n",
            "[[23]] [[35]] [[93]]\n",
            "[[92]] [[44]] [[11]]\n",
            "[[40]] [[12]] [[46]] \n",
            "\n",
            "f\n",
            "[[44]]\n",
            "[[12]]\n",
            "[[67]]\n"
          ]
        }
      ]
    },
    {
      "cell_type": "code",
      "source": [],
      "metadata": {
        "id": "SRPfMG7gyFtv"
      },
      "execution_count": null,
      "outputs": []
    }
  ]
}